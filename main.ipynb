{
 "cells": [
  {
   "cell_type": "code",
   "execution_count": null,
   "id": "0",
   "metadata": {},
   "outputs": [],
   "source": [
    "# Loading necessary Python libraries\n",
    "from src.llm_eval import llm_eval\n",
    "from src.utils import (\n",
    "    display_results,\n",
    "    list_subjects,\n",
    "    load_and_prepare_dataset,\n",
    "    load_config,\n",
    "    load_json_safely,\n",
    "    load_model_and_tokenizer,\n",
    "    print_random_examples,\n",
    "    random_subject,\n",
    ")\n"
   ]
  },
  {
   "cell_type": "code",
   "execution_count": null,
   "id": "1",
   "metadata": {},
   "outputs": [],
   "source": [
    "# Load configuration file\n",
    "config_dict = load_config()"
   ]
  },
  {
   "cell_type": "code",
   "execution_count": null,
   "id": "2",
   "metadata": {},
   "outputs": [],
   "source": [
    "# Load model and tokenizer\n",
    "model_dict = load_model_and_tokenizer(config_dict)"
   ]
  },
  {
   "cell_type": "code",
   "execution_count": null,
   "id": "3",
   "metadata": {},
   "outputs": [],
   "source": [
    "# Load the MMLU dataset\n",
    "dataset = load_and_prepare_dataset(config_dict)"
   ]
  },
  {
   "cell_type": "code",
   "execution_count": null,
   "id": "4",
   "metadata": {},
   "outputs": [],
   "source": [
    "# Listing unique subjects in the dataset\n",
    "unique_subject = list_subjects(dataset)"
   ]
  },
  {
   "cell_type": "code",
   "execution_count": null,
   "id": "5",
   "metadata": {},
   "outputs": [],
   "source": [
    "# Load the json file with results and displays its content\n",
    "result_path, results_dict = load_json_safely(config_dict)\n",
    "subjects_evaluated = display_results(results_dict)"
   ]
  },
  {
   "cell_type": "code",
   "execution_count": null,
   "id": "6",
   "metadata": {},
   "outputs": [],
   "source": [
    "# Selecting n_sub random subjects from the remaining subjects\n",
    "subject_of_interest = random_subject(unique_subject, subjects_evaluated, config_dict)"
   ]
  },
  {
   "cell_type": "code",
   "execution_count": null,
   "id": "7",
   "metadata": {},
   "outputs": [],
   "source": [
    "# Check a few random examples for the subject of interest\n",
    "print_random_examples(dataset, subject_of_interest, n_ex=2)"
   ]
  },
  {
   "cell_type": "code",
   "execution_count": null,
   "id": "8",
   "metadata": {},
   "outputs": [],
   "source": [
    "# Run the LLM evaluation for the selected subject\n",
    "llm_eval(dataset, result_path, model_dict, subject_of_interest, results_dict, config_dict)"
   ]
  },
  {
   "cell_type": "code",
   "execution_count": null,
   "id": "9",
   "metadata": {},
   "outputs": [],
   "source": []
  }
 ],
 "metadata": {
  "kernelspec": {
   "display_name": "corrupt_llm",
   "language": "python",
   "name": "python3"
  },
  "language_info": {
   "codemirror_mode": {
    "name": "ipython",
    "version": 3
   },
   "file_extension": ".py",
   "mimetype": "text/x-python",
   "name": "python",
   "nbconvert_exporter": "python",
   "pygments_lexer": "ipython3",
   "version": "3.10.18"
  }
 },
 "nbformat": 4,
 "nbformat_minor": 5
}
